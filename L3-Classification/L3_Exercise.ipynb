{
  "nbformat": 4,
  "nbformat_minor": 0,
  "metadata": {
    "colab": {
      "provenance": []
    },
    "kernelspec": {
      "name": "python3",
      "display_name": "Python 3"
    },
    "language_info": {
      "name": "python"
    }
  },
  "cells": [
    {
      "cell_type": "code",
      "source": [
        "import pandas as pd"
      ],
      "metadata": {
        "id": "7p5MenzWmKnQ"
      },
      "execution_count": 1,
      "outputs": []
    },
    {
      "cell_type": "code",
      "execution_count": 4,
      "metadata": {
        "id": "7qjNx4CvmJjx"
      },
      "outputs": [],
      "source": [
        "dataset = pd.read_csv(\"https://raw.githubusercontent.com/AUB-ACM-AI/Beginner-Track/main/L3-Classification/insurance_data.csv\")"
      ]
    }
  ]
}