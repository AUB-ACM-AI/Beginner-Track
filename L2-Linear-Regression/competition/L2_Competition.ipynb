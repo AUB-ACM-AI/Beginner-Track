{
  "nbformat": 4,
  "nbformat_minor": 0,
  "metadata": {
    "colab": {
      "provenance": []
    },
    "kernelspec": {
      "name": "python3",
      "display_name": "Python 3"
    },
    "language_info": {
      "name": "python"
    }
  },
  "cells": [
    {
      "cell_type": "code",
      "execution_count": null,
      "metadata": {
        "id": "9R8MbdSCTkcj"
      },
      "outputs": [],
      "source": [
        "import pandas as pd"
      ]
    },
    {
      "cell_type": "code",
      "source": [
        "df = pd.read_csv(\"https://raw.githubusercontent.com/AUB-ACM-AI/Beginner-Track/main/L2-Linear-Regression/competition/train.csv\", index_col='id')"
      ],
      "metadata": {
        "id": "9xmzOJ9RTk8l"
      },
      "execution_count": null,
      "outputs": []
    }
  ]
}