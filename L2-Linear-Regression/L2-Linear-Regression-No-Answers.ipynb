{
  "nbformat": 4,
  "nbformat_minor": 0,
  "metadata": {
    "colab": {
      "provenance": []
    },
    "kernelspec": {
      "name": "python3",
      "display_name": "Python 3"
    }
  },
  "cells": [
    {
      "cell_type": "markdown",
      "metadata": {
        "id": "WSAvvETI052N"
      },
      "source": [
        "# **Build Linear Regression Model in Python**\n",
        "\n",
        "Chanin Nantasenamat\n",
        "\n",
        "[*'Data Professor' YouTube channel*](http://youtube.com/dataprofessor)\n",
        "\n",
        "In this Jupyter notebook, I will be showing you how to build a linear regression model in Python using the scikit-learn package.\n",
        "\n",
        "Inspired by [scikit-learn's Linear Regression Example](https://scikit-learn.org/stable/auto_examples/linear_model/plot_ols.html)\n",
        "\n",
        "---"
      ]
    },
    {
      "cell_type": "markdown",
      "metadata": {
        "id": "AdN_S7JylQDW"
      },
      "source": [
        "## **Load the Diabetes dataset** (via scikit-learn)"
      ]
    },
    {
      "cell_type": "markdown",
      "metadata": {
        "id": "f3Fi9yx3lfWn"
      },
      "source": [
        "### **Import library**"
      ]
    },
    {
      "cell_type": "code",
      "metadata": {
        "id": "0m-6K7IJlc2H"
      },
      "source": [
        "from sklearn import datasets\n"
      ],
      "execution_count": 1,
      "outputs": []
    },
    {
      "cell_type": "markdown",
      "metadata": {
        "id": "DXvpHcyHlh9m"
      },
      "source": [
        "### **Load dataset**"
      ]
    },
    {
      "cell_type": "code",
      "metadata": {
        "id": "fTNc6-A87v0-"
      },
      "source": [
        "diabetes = datasets.load_diabetes()\n"
      ],
      "execution_count": 2,
      "outputs": []
    },
    {
      "cell_type": "code",
      "metadata": {
        "id": "Vtp3Gq2K89SW",
        "outputId": "186e063f-54f6-4980-bba5-1d7f39976515",
        "colab": {
          "base_uri": "https://localhost:8080/"
        }
      },
      "source": [
        "diabetes"
      ],
      "execution_count": 3,
      "outputs": [
        {
          "output_type": "execute_result",
          "data": {
            "text/plain": [
              "{'data': array([[ 0.03807591,  0.05068012,  0.06169621, ..., -0.00259226,\n",
              "          0.01990749, -0.01764613],\n",
              "        [-0.00188202, -0.04464164, -0.05147406, ..., -0.03949338,\n",
              "         -0.06833155, -0.09220405],\n",
              "        [ 0.08529891,  0.05068012,  0.04445121, ..., -0.00259226,\n",
              "          0.00286131, -0.02593034],\n",
              "        ...,\n",
              "        [ 0.04170844,  0.05068012, -0.01590626, ..., -0.01107952,\n",
              "         -0.04688253,  0.01549073],\n",
              "        [-0.04547248, -0.04464164,  0.03906215, ...,  0.02655962,\n",
              "          0.04452873, -0.02593034],\n",
              "        [-0.04547248, -0.04464164, -0.0730303 , ..., -0.03949338,\n",
              "         -0.00422151,  0.00306441]]),\n",
              " 'target': array([151.,  75., 141., 206., 135.,  97., 138.,  63., 110., 310., 101.,\n",
              "         69., 179., 185., 118., 171., 166., 144.,  97., 168.,  68.,  49.,\n",
              "         68., 245., 184., 202., 137.,  85., 131., 283., 129.,  59., 341.,\n",
              "         87.,  65., 102., 265., 276., 252.,  90., 100.,  55.,  61.,  92.,\n",
              "        259.,  53., 190., 142.,  75., 142., 155., 225.,  59., 104., 182.,\n",
              "        128.,  52.,  37., 170., 170.,  61., 144.,  52., 128.,  71., 163.,\n",
              "        150.,  97., 160., 178.,  48., 270., 202., 111.,  85.,  42., 170.,\n",
              "        200., 252., 113., 143.,  51.,  52., 210.,  65., 141.,  55., 134.,\n",
              "         42., 111.,  98., 164.,  48.,  96.,  90., 162., 150., 279.,  92.,\n",
              "         83., 128., 102., 302., 198.,  95.,  53., 134., 144., 232.,  81.,\n",
              "        104.,  59., 246., 297., 258., 229., 275., 281., 179., 200., 200.,\n",
              "        173., 180.,  84., 121., 161.,  99., 109., 115., 268., 274., 158.,\n",
              "        107.,  83., 103., 272.,  85., 280., 336., 281., 118., 317., 235.,\n",
              "         60., 174., 259., 178., 128.,  96., 126., 288.,  88., 292.,  71.,\n",
              "        197., 186.,  25.,  84.,  96., 195.,  53., 217., 172., 131., 214.,\n",
              "         59.,  70., 220., 268., 152.,  47.,  74., 295., 101., 151., 127.,\n",
              "        237., 225.,  81., 151., 107.,  64., 138., 185., 265., 101., 137.,\n",
              "        143., 141.,  79., 292., 178.,  91., 116.,  86., 122.,  72., 129.,\n",
              "        142.,  90., 158.,  39., 196., 222., 277.,  99., 196., 202., 155.,\n",
              "         77., 191.,  70.,  73.,  49.,  65., 263., 248., 296., 214., 185.,\n",
              "         78.,  93., 252., 150.,  77., 208.,  77., 108., 160.,  53., 220.,\n",
              "        154., 259.,  90., 246., 124.,  67.,  72., 257., 262., 275., 177.,\n",
              "         71.,  47., 187., 125.,  78.,  51., 258., 215., 303., 243.,  91.,\n",
              "        150., 310., 153., 346.,  63.,  89.,  50.,  39., 103., 308., 116.,\n",
              "        145.,  74.,  45., 115., 264.,  87., 202., 127., 182., 241.,  66.,\n",
              "         94., 283.,  64., 102., 200., 265.,  94., 230., 181., 156., 233.,\n",
              "         60., 219.,  80.,  68., 332., 248.,  84., 200.,  55.,  85.,  89.,\n",
              "         31., 129.,  83., 275.,  65., 198., 236., 253., 124.,  44., 172.,\n",
              "        114., 142., 109., 180., 144., 163., 147.,  97., 220., 190., 109.,\n",
              "        191., 122., 230., 242., 248., 249., 192., 131., 237.,  78., 135.,\n",
              "        244., 199., 270., 164.,  72.,  96., 306.,  91., 214.,  95., 216.,\n",
              "        263., 178., 113., 200., 139., 139.,  88., 148.,  88., 243.,  71.,\n",
              "         77., 109., 272.,  60.,  54., 221.,  90., 311., 281., 182., 321.,\n",
              "         58., 262., 206., 233., 242., 123., 167.,  63., 197.,  71., 168.,\n",
              "        140., 217., 121., 235., 245.,  40.,  52., 104., 132.,  88.,  69.,\n",
              "        219.,  72., 201., 110.,  51., 277.,  63., 118.,  69., 273., 258.,\n",
              "         43., 198., 242., 232., 175.,  93., 168., 275., 293., 281.,  72.,\n",
              "        140., 189., 181., 209., 136., 261., 113., 131., 174., 257.,  55.,\n",
              "         84.,  42., 146., 212., 233.,  91., 111., 152., 120.,  67., 310.,\n",
              "         94., 183.,  66., 173.,  72.,  49.,  64.,  48., 178., 104., 132.,\n",
              "        220.,  57.]),\n",
              " 'frame': None,\n",
              " 'DESCR': '.. _diabetes_dataset:\\n\\nDiabetes dataset\\n----------------\\n\\nTen baseline variables, age, sex, body mass index, average blood\\npressure, and six blood serum measurements were obtained for each of n =\\n442 diabetes patients, as well as the response of interest, a\\nquantitative measure of disease progression one year after baseline.\\n\\n**Data Set Characteristics:**\\n\\n:Number of Instances: 442\\n\\n:Number of Attributes: First 10 columns are numeric predictive values\\n\\n:Target: Column 11 is a quantitative measure of disease progression one year after baseline\\n\\n:Attribute Information:\\n    - age     age in years\\n    - sex\\n    - bmi     body mass index\\n    - bp      average blood pressure\\n    - s1      tc, total serum cholesterol\\n    - s2      ldl, low-density lipoproteins\\n    - s3      hdl, high-density lipoproteins\\n    - s4      tch, total cholesterol / HDL\\n    - s5      ltg, possibly log of serum triglycerides level\\n    - s6      glu, blood sugar level\\n\\nNote: Each of these 10 feature variables have been mean centered and scaled by the standard deviation times the square root of `n_samples` (i.e. the sum of squares of each column totals 1).\\n\\nSource URL:\\nhttps://www4.stat.ncsu.edu/~boos/var.select/diabetes.html\\n\\nFor more information see:\\nBradley Efron, Trevor Hastie, Iain Johnstone and Robert Tibshirani (2004) \"Least Angle Regression,\" Annals of Statistics (with discussion), 407-499.\\n(https://web.stanford.edu/~hastie/Papers/LARS/LeastAngle_2002.pdf)\\n',\n",
              " 'feature_names': ['age',\n",
              "  'sex',\n",
              "  'bmi',\n",
              "  'bp',\n",
              "  's1',\n",
              "  's2',\n",
              "  's3',\n",
              "  's4',\n",
              "  's5',\n",
              "  's6'],\n",
              " 'data_filename': 'diabetes_data_raw.csv.gz',\n",
              " 'target_filename': 'diabetes_target.csv.gz',\n",
              " 'data_module': 'sklearn.datasets.data'}"
            ]
          },
          "metadata": {},
          "execution_count": 3
        }
      ]
    },
    {
      "cell_type": "markdown",
      "metadata": {
        "id": "7XNtaeRS8roJ"
      },
      "source": [
        "### **Description of the Diabetes dataset**"
      ]
    },
    {
      "cell_type": "code",
      "metadata": {
        "id": "tkRC3-5m8aW2"
      },
      "source": [],
      "execution_count": 3,
      "outputs": []
    },
    {
      "cell_type": "markdown",
      "metadata": {
        "id": "HtlSG5M187YC"
      },
      "source": [
        "### **Feature names**"
      ]
    },
    {
      "cell_type": "code",
      "metadata": {
        "id": "GMeRYgLK8xjS"
      },
      "source": [],
      "execution_count": 3,
      "outputs": []
    },
    {
      "cell_type": "markdown",
      "metadata": {
        "id": "v_EPpc7U9fjN"
      },
      "source": [
        "### **Create X and Y data matrices**"
      ]
    },
    {
      "cell_type": "code",
      "metadata": {
        "id": "m66XE7uA9tEk"
      },
      "source": [],
      "execution_count": 3,
      "outputs": []
    },
    {
      "cell_type": "code",
      "metadata": {
        "id": "0ZHtE-if93Vw"
      },
      "source": [
        "#the shapes of X and Y"
      ],
      "execution_count": 4,
      "outputs": []
    },
    {
      "cell_type": "markdown",
      "metadata": {
        "id": "Ng_Jpsqh9tZK"
      },
      "source": [
        "### **Load dataset + Create X and Y data matrices (in 1 step)**"
      ]
    },
    {
      "cell_type": "code",
      "metadata": {
        "id": "HHYgXzyvjY-V"
      },
      "source": [],
      "execution_count": 4,
      "outputs": []
    },
    {
      "cell_type": "code",
      "metadata": {
        "id": "3pjWOP3E-ioq"
      },
      "source": [
        "#the shapes of X and Y"
      ],
      "execution_count": 5,
      "outputs": []
    },
    {
      "cell_type": "markdown",
      "metadata": {
        "id": "y5wMVRtpkvo2"
      },
      "source": [
        "## **Data split**"
      ]
    },
    {
      "cell_type": "markdown",
      "metadata": {
        "id": "a2FdlRkWlGhd"
      },
      "source": [
        "### **Import library**"
      ]
    },
    {
      "cell_type": "code",
      "metadata": {
        "id": "-loRD7Chkx2u"
      },
      "source": [
        "from sklearn.model_selection import train_test_split"
      ],
      "execution_count": 6,
      "outputs": []
    },
    {
      "cell_type": "markdown",
      "metadata": {
        "id": "5u43h3GllJL5"
      },
      "source": [
        "### **Perform 80/20 Data split**"
      ]
    },
    {
      "cell_type": "code",
      "metadata": {
        "id": "DCkW1c_fk0ZB"
      },
      "source": [],
      "execution_count": 6,
      "outputs": []
    },
    {
      "cell_type": "markdown",
      "metadata": {
        "id": "3KraL05hlAlF"
      },
      "source": [
        "### **Data dimension**"
      ]
    },
    {
      "cell_type": "code",
      "metadata": {
        "id": "wRle727Kk5zD"
      },
      "source": [
        "#the shape of the X and Y train"
      ],
      "execution_count": 7,
      "outputs": []
    },
    {
      "cell_type": "code",
      "metadata": {
        "id": "eYuH1K2Dk_2r"
      },
      "source": [
        "#the shape of the X and Y test"
      ],
      "execution_count": 8,
      "outputs": []
    },
    {
      "cell_type": "markdown",
      "metadata": {
        "id": "ftLHUDWWmAyC"
      },
      "source": [
        "## **Linear Regression Model**"
      ]
    },
    {
      "cell_type": "markdown",
      "metadata": {
        "id": "u20GkslXmLm8"
      },
      "source": [
        "### **Import library**"
      ]
    },
    {
      "cell_type": "code",
      "metadata": {
        "id": "7ZQh8TtjmDwi"
      },
      "source": [
        "from sklearn import linear_model\n",
        "from sklearn.metrics import mean_squared_error, r2_score"
      ],
      "execution_count": 9,
      "outputs": []
    },
    {
      "cell_type": "markdown",
      "metadata": {
        "id": "vCYTGIh1KSvo"
      },
      "source": [
        "### **Build linear regression**"
      ]
    },
    {
      "cell_type": "markdown",
      "metadata": {
        "id": "S2DWBNumCnBY"
      },
      "source": [
        "#### Defines the regression model"
      ]
    },
    {
      "cell_type": "code",
      "metadata": {
        "id": "0mUdKcftmYKC"
      },
      "source": [],
      "execution_count": 9,
      "outputs": []
    },
    {
      "cell_type": "markdown",
      "metadata": {
        "id": "6AVIFWcbCw6p"
      },
      "source": [
        "#### Build training model"
      ]
    },
    {
      "cell_type": "code",
      "metadata": {
        "id": "Fv-a-toQmc0c"
      },
      "source": [],
      "execution_count": 9,
      "outputs": []
    },
    {
      "cell_type": "markdown",
      "metadata": {
        "id": "OVfa9YhYC2lD"
      },
      "source": [
        "#### Apply trained model to make prediction (on test set)"
      ]
    },
    {
      "cell_type": "code",
      "metadata": {
        "id": "Ceqli7YtmkM9"
      },
      "source": [],
      "execution_count": 9,
      "outputs": []
    },
    {
      "cell_type": "markdown",
      "metadata": {
        "id": "kOgx7y7wLiW-"
      },
      "source": [
        "## **Prediction results**"
      ]
    },
    {
      "cell_type": "markdown",
      "metadata": {
        "id": "eNj5NwDnC91W"
      },
      "source": [
        "### **Print model performance**"
      ]
    },
    {
      "cell_type": "code",
      "metadata": {
        "id": "hQPfL1nkmvxb",
        "outputId": "1ea4ffee-2e95-4513-8952-1842167f0641",
        "colab": {
          "base_uri": "https://localhost:8080/"
        }
      },
      "source": [
        "print('Coefficients:', model.coef_) #the weights of each feature in the linear regression\n",
        "print('Intercept:', model.intercept_) #the \"b\"\n",
        "print('Mean squared error (MSE): %.2f'\n",
        "      % mean_squared_error(Y_test, Y_pred)) #which measures how far the predictions are from actual values.\n",
        "print('Coefficient of determination (R^2): %.2f'\n",
        "      % r2_score(Y_test, Y_pred)) #R² represents how well the model explains the variance in the data"
      ],
      "execution_count": null,
      "outputs": [
        {
          "output_type": "stream",
          "name": "stdout",
          "text": [
            "Coefficients: [ -12.9290957  -273.32322782  479.06570323  380.10187775 -941.6902823\n",
            "  497.94886968  307.33017857  478.19247941  733.90956194   79.69493416]\n",
            "Intercept: 151.69756701067004\n",
            "Mean squared error (MSE): 3165.86\n",
            "Coefficient of determination (R^2): 0.45\n"
          ]
        }
      ]
    },
    {
      "cell_type": "markdown",
      "metadata": {
        "id": "ukQ1MFxzDNc2"
      },
      "source": [
        "### **String formatting**"
      ]
    },
    {
      "cell_type": "markdown",
      "metadata": {
        "id": "MLeShbUDDTe7"
      },
      "source": [
        "By default r2_score returns a floating number ([more details](https://docs.scipy.org/doc/numpy-1.13.0/user/basics.types.html))"
      ]
    },
    {
      "cell_type": "code",
      "metadata": {
        "id": "vXc3Zh9rDZDr",
        "outputId": "2894c0e6-5d0d-4d06-b79b-cb4e9804110f",
        "colab": {
          "base_uri": "https://localhost:8080/"
        }
      },
      "source": [
        "r2_score(Y_test, Y_pred)"
      ],
      "execution_count": null,
      "outputs": [
        {
          "output_type": "execute_result",
          "data": {
            "text/plain": [
              "0.4480205189859001"
            ]
          },
          "metadata": {},
          "execution_count": 25
        }
      ]
    },
    {
      "cell_type": "markdown",
      "metadata": {
        "id": "HvlQcuhIEC13"
      },
      "source": [
        "We will be using the modulo operator to format the numbers by rounding it off."
      ]
    },
    {
      "cell_type": "code",
      "metadata": {
        "id": "cl_B_EBYFx4L",
        "outputId": "597cfe6e-e171-462f-9741-e334af50c67f",
        "colab": {
          "base_uri": "https://localhost:8080/",
          "height": 36
        }
      },
      "source": [
        "'%f' % 0.523810833536016"
      ],
      "execution_count": null,
      "outputs": [
        {
          "output_type": "execute_result",
          "data": {
            "text/plain": [
              "'0.523811'"
            ],
            "application/vnd.google.colaboratory.intrinsic+json": {
              "type": "string"
            }
          },
          "metadata": {},
          "execution_count": 35
        }
      ]
    },
    {
      "cell_type": "markdown",
      "metadata": {
        "id": "coHGJ_CrG5mY"
      },
      "source": [
        "We will now round it off to 3 digits"
      ]
    },
    {
      "cell_type": "code",
      "metadata": {
        "id": "WXv_MDhVF0zN",
        "outputId": "df25b16d-a91b-4793-e7b6-c32391434ae1",
        "colab": {
          "base_uri": "https://localhost:8080/",
          "height": 36
        }
      },
      "source": [
        "'%.3f' % 0.523810833536016"
      ],
      "execution_count": null,
      "outputs": [
        {
          "output_type": "execute_result",
          "data": {
            "text/plain": [
              "'0.524'"
            ],
            "application/vnd.google.colaboratory.intrinsic+json": {
              "type": "string"
            }
          },
          "metadata": {},
          "execution_count": 36
        }
      ]
    },
    {
      "cell_type": "markdown",
      "metadata": {
        "id": "4tvESBrSHBcs"
      },
      "source": [
        "We will now round it off to 2 digits"
      ]
    },
    {
      "cell_type": "code",
      "metadata": {
        "id": "mmT1UMUaHHnw",
        "outputId": "2affc67b-d5dd-4d3b-ab2d-f41a105ac2be",
        "colab": {
          "base_uri": "https://localhost:8080/",
          "height": 36
        }
      },
      "source": [
        "'%.2f' % 0.523810833536016"
      ],
      "execution_count": null,
      "outputs": [
        {
          "output_type": "execute_result",
          "data": {
            "text/plain": [
              "'0.52'"
            ],
            "application/vnd.google.colaboratory.intrinsic+json": {
              "type": "string"
            }
          },
          "metadata": {},
          "execution_count": 37
        }
      ]
    },
    {
      "cell_type": "markdown",
      "metadata": {
        "id": "bmL8ZSOTKYDw"
      },
      "source": [
        "## **Scatter plots**"
      ]
    },
    {
      "cell_type": "markdown",
      "metadata": {
        "id": "_Mi1ipCJPczT"
      },
      "source": [
        "### **Import library**"
      ]
    },
    {
      "cell_type": "code",
      "metadata": {
        "id": "JDh3jorMKd8Q"
      },
      "source": [
        "import seaborn as sns"
      ],
      "execution_count": null,
      "outputs": []
    },
    {
      "cell_type": "markdown",
      "metadata": {
        "id": "pxD1MIXdPepK"
      },
      "source": [
        "### **Make scatter plot**"
      ]
    },
    {
      "cell_type": "markdown",
      "metadata": {
        "id": "0DbZGw8sI4jR"
      },
      "source": [
        "#### The Data"
      ]
    },
    {
      "cell_type": "code",
      "metadata": {
        "id": "8xBzmCpaJEBB",
        "outputId": "4d7bb338-12f4-4b6a-c46a-b9c617fbb00c",
        "colab": {
          "base_uri": "https://localhost:8080/"
        }
      },
      "source": [
        "Y_test"
      ],
      "execution_count": null,
      "outputs": [
        {
          "output_type": "execute_result",
          "data": {
            "text/plain": [
              "array([111., 236., 139., 209., 104., 171., 178.,  93., 222.,  67.,  65.,\n",
              "        84., 164., 168.,  91.,  54., 196., 103.,  75., 138., 264., 102.,\n",
              "       275., 152.,  42., 198., 295., 131., 197., 160.,  60., 302., 103.,\n",
              "       200., 283., 109., 212., 270., 252.,  97., 138., 143.,  99., 179.,\n",
              "        89., 173.,  52., 190.,  87.,  52., 310.,  66., 272.,  98., 191.,\n",
              "       308., 198., 219.,  63., 131., 134., 281., 142.,  47.,  75.,  60.,\n",
              "       217.,  72., 181., 144., 201., 281., 208.,  71.,  71., 113., 129.,\n",
              "       230., 111., 121.,  37., 235., 109.,  91., 182., 275., 202., 249.,\n",
              "        39.])"
            ]
          },
          "metadata": {},
          "execution_count": 30
        }
      ]
    },
    {
      "cell_type": "code",
      "metadata": {
        "id": "UPwtR8XsKYoE",
        "outputId": "d852d578-9724-44bf-9b1b-dee93b154273",
        "colab": {
          "base_uri": "https://localhost:8080/"
        }
      },
      "source": [
        "import numpy as np\n",
        "np.array(Y_test)"
      ],
      "execution_count": null,
      "outputs": [
        {
          "output_type": "execute_result",
          "data": {
            "text/plain": [
              "array([111., 236., 139., 209., 104., 171., 178.,  93., 222.,  67.,  65.,\n",
              "        84., 164., 168.,  91.,  54., 196., 103.,  75., 138., 264., 102.,\n",
              "       275., 152.,  42., 198., 295., 131., 197., 160.,  60., 302., 103.,\n",
              "       200., 283., 109., 212., 270., 252.,  97., 138., 143.,  99., 179.,\n",
              "        89., 173.,  52., 190.,  87.,  52., 310.,  66., 272.,  98., 191.,\n",
              "       308., 198., 219.,  63., 131., 134., 281., 142.,  47.,  75.,  60.,\n",
              "       217.,  72., 181., 144., 201., 281., 208.,  71.,  71., 113., 129.,\n",
              "       230., 111., 121.,  37., 235., 109.,  91., 182., 275., 202., 249.,\n",
              "        39.])"
            ]
          },
          "metadata": {},
          "execution_count": 31
        }
      ]
    },
    {
      "cell_type": "code",
      "metadata": {
        "id": "U8UAehGlJIeS",
        "outputId": "08e904cd-1938-4e06-b42a-4071f7b31bf5",
        "colab": {
          "base_uri": "https://localhost:8080/"
        }
      },
      "source": [
        "Y_pred"
      ],
      "execution_count": null,
      "outputs": [
        {
          "output_type": "execute_result",
          "data": {
            "text/plain": [
              "array([111.27304526, 229.4607003 , 124.28878531, 153.78198644,\n",
              "        70.2002852 , 192.57406284, 116.69574349, 137.49039372,\n",
              "       206.0505808 , 192.48521445,  48.26956627, 196.21573432,\n",
              "       182.97021093, 140.52868145, 167.21180283,  93.1505548 ,\n",
              "       159.9083993 , 138.62453269,  74.1567229 ,  67.28842299,\n",
              "       251.35918856, 106.81705964, 210.79225892, 225.60058673,\n",
              "        77.73217465, 206.20606589, 218.12122797, 156.27621026,\n",
              "       143.02528198, 118.05866843, 135.3389529 , 144.67391219,\n",
              "       146.4303872 , 111.1161496 , 177.99103452, 202.8790914 ,\n",
              "       197.04165782, 237.63315867, 163.84410412, 101.9547132 ,\n",
              "       177.58391943, 177.45472332, 228.1353211 , 114.59147561,\n",
              "       123.66000754, 215.70079753,  68.83870448, 179.18072483,\n",
              "       122.23863816,  60.05606734, 205.28105533, 177.69078862,\n",
              "       185.01564325,  77.86426697, 199.65715971, 265.23917504,\n",
              "       176.45016753, 144.56138243, 105.40465589, 167.82489271,\n",
              "        70.94295766, 247.70106162, 194.6090894 ,  46.82297376,\n",
              "        70.29275806,  88.95768651, 183.60358649,  74.70438109,\n",
              "        84.3028732 , 119.30029393,  89.05910118, 278.48376728,\n",
              "       229.53702125,  82.09335104,  80.00342059, 118.89634607,\n",
              "       151.54547713, 305.58187761, 127.39186103, 167.06776808,\n",
              "        80.1631511 , 174.50408863, 154.59778558, 180.65161677,\n",
              "       138.76936174, 217.57054739, 189.27343358, 224.11689313,\n",
              "        66.83321006])"
            ]
          },
          "metadata": {},
          "execution_count": 32
        }
      ]
    },
    {
      "cell_type": "markdown",
      "metadata": {
        "id": "XEa9vmBjI8Bd"
      },
      "source": [
        "#### Making the scatter plot"
      ]
    },
    {
      "cell_type": "code",
      "metadata": {
        "id": "Wuig81bSKgGN",
        "outputId": "048d637b-6562-4877-d1ad-6ceec75bac30",
        "colab": {
          "base_uri": "https://localhost:8080/",
          "height": 448
        }
      },
      "source": [
        "sns.scatterplot(x=Y_test, y=Y_pred)"
      ],
      "execution_count": null,
      "outputs": [
        {
          "output_type": "execute_result",
          "data": {
            "text/plain": [
              "<Axes: >"
            ]
          },
          "metadata": {},
          "execution_count": 38
        },
        {
          "output_type": "display_data",
          "data": {
            "text/plain": [
              "<Figure size 640x480 with 1 Axes>"
            ],
            "image/png": "[encoded data removed]"
          },
          "metadata": {}
        }
      ]
    },
    {
      "cell_type": "code",
      "metadata": {
        "id": "34PEHdfwPv8X",
        "outputId": "a1c3a337-effa-45c7-be35-79ea8cb1837c",
        "colab": {
          "base_uri": "https://localhost:8080/",
          "height": 448
        }
      },
      "source": [
        "sns.scatterplot(x=Y_test, y=Y_pred, marker=\"+\")"
      ],
      "execution_count": null,
      "outputs": [
        {
          "output_type": "execute_result",
          "data": {
            "text/plain": [
              "<Axes: >"
            ]
          },
          "metadata": {},
          "execution_count": 39
        },
        {
          "output_type": "display_data",
          "data": {
            "text/plain": [
              "<Figure size 640x480 with 1 Axes>"
            ],
            "image/png": "[encoded data removed]"
          },
          "metadata": {}
        }
      ]
    },
    {
      "cell_type": "code",
      "metadata": {
        "id": "kPgBVuuOQ4IQ",
        "outputId": "e16ac647-31c8-4492-91bf-3abdf77c3303",
        "colab": {
          "base_uri": "https://localhost:8080/",
          "height": 448
        }
      },
      "source": [
        "sns.scatterplot(x=Y_test, y=Y_pred, alpha=0.5)"
      ],
      "execution_count": null,
      "outputs": [
        {
          "output_type": "execute_result",
          "data": {
            "text/plain": [
              "<Axes: >"
            ]
          },
          "metadata": {},
          "execution_count": 40
        },
        {
          "output_type": "display_data",
          "data": {
            "text/plain": [
              "<Figure size 640x480 with 1 Axes>"
            ],
            "image/png": "[encoded data removed]"
          },
          "metadata": {}
        }
      ]
    }
  ]
}